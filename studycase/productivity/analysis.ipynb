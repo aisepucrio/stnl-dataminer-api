{
 "cells": [
  {
   "cell_type": "code",
   "execution_count": 30,
   "metadata": {},
   "outputs": [],
   "source": [
    "import pandas as pd\n",
    "import matplotlib.pyplot as plt\n",
    "import seaborn as sns\n",
    "import numpy as np\n",
    "import json\n",
    "import datetime\n",
    "import matplotlib.dates as mdates\n",
    "import matplotlib.ticker as ticker\n",
    "from collections import defaultdict"
   ]
  },
  {
   "cell_type": "code",
   "execution_count": 32,
   "metadata": {},
   "outputs": [],
   "source": [
    "df = pd.read_csv(rf'Path to the input file')"
   ]
  },
  {
   "cell_type": "code",
   "execution_count": 33,
   "metadata": {},
   "outputs": [],
   "source": [
    "def parse_json_column(column):\n",
    "    return column.apply(lambda x: json.loads(x) if isinstance(x, str) and x.startswith(\"[\") else [])\n",
    "\n",
    "df['comments_parsed'] = parse_json_column(df['comments'])\n",
    "df['activity_log_parsed'] = parse_json_column(df['activity_log'])\n",
    "df['commits_parsed'] = parse_json_column(df['commits'])"
   ]
  },
  {
   "cell_type": "code",
   "execution_count": 34,
   "metadata": {},
   "outputs": [],
   "source": [
    "def prepare_dates(dataframe):\n",
    "    dataframe['created_dt'] = pd.to_datetime(dataframe['created'])\n",
    "    dataframe['updated_dt'] = pd.to_datetime(dataframe['updated'])\n",
    "    return dataframe\n",
    "\n",
    "df = prepare_dates(df)"
   ]
  },
  {
   "cell_type": "code",
   "execution_count": 35,
   "metadata": {},
   "outputs": [],
   "source": [
    "def plot_weekly_comments(dataframe):\n",
    "    dataframe['week'] = dataframe['created_dt'].dt.to_period('W').apply(lambda r: r.start_time)\n",
    "    comment_counts = dataframe.groupby('week')['comments_parsed'].apply(lambda x: sum(len(c) for c in x))\n",
    "    \n",
    "    plt.figure(figsize=(12, 6))\n",
    "    plt.plot(comment_counts.index, comment_counts.values, marker='o', linewidth=2)\n",
    "    plt.title('Weekly Comment Activity')\n",
    "    plt.xlabel('Week')\n",
    "    plt.ylabel('Number of Comments')\n",
    "    plt.grid(True, linestyle='--', alpha=0.6)\n",
    "    plt.xticks(rotation=45)\n",
    "    plt.tight_layout()\n",
    "    plt.show()"
   ]
  },
  {
   "cell_type": "code",
   "execution_count": 36,
   "metadata": {},
   "outputs": [],
   "source": [
    "def plot_weekly_transitions(dataframe):\n",
    "    dataframe['week'] = dataframe['created_dt'].dt.to_period('W').apply(lambda r: r.start_time)\n",
    "    transition_counts = dataframe.groupby('week')['activity_log_parsed'].apply(lambda x: sum(len(a) for a in x))\n",
    "\n",
    "    plt.figure(figsize=(12, 6))\n",
    "    plt.plot(transition_counts.index, transition_counts.values, marker='s', linewidth=2, color='orange')\n",
    "    plt.title('Weekly Status Transitions')\n",
    "    plt.xlabel('Week')\n",
    "    plt.ylabel('Number of Transitions')\n",
    "    plt.grid(True, linestyle='--', alpha=0.6)\n",
    "    plt.xticks(rotation=45)\n",
    "    plt.tight_layout()\n",
    "    plt.show()"
   ]
  },
  {
   "cell_type": "code",
   "execution_count": 37,
   "metadata": {},
   "outputs": [],
   "source": [
    "def plot_weekly_commits(dataframe):\n",
    "    dataframe['week'] = dataframe['created_dt'].dt.to_period('W').apply(lambda r: r.start_time)\n",
    "    commit_counts = dataframe.groupby('week')['commits_parsed'].apply(lambda x: sum(len(c) for c in x))\n",
    "\n",
    "    plt.figure(figsize=(12, 6))\n",
    "    plt.plot(commit_counts.index, commit_counts.values, marker='^', linewidth=2, color='green')\n",
    "    plt.title('Weekly Commits Linked to Issues')\n",
    "    plt.xlabel('Week')\n",
    "    plt.ylabel('Number of Commits')\n",
    "    plt.grid(True, linestyle='--', alpha=0.6)\n",
    "    plt.xticks(rotation=45)\n",
    "    plt.tight_layout()\n",
    "    plt.show()"
   ]
  },
  {
   "cell_type": "code",
   "execution_count": 38,
   "metadata": {},
   "outputs": [],
   "source": [
    "def plot_weekly_resolution_time(dataframe):\n",
    "    dataframe['resolution_days'] = (dataframe['updated_dt'] - dataframe['created_dt']).dt.total_seconds() / (60 * 60 * 24)\n",
    "    dataframe['week'] = dataframe['created_dt'].dt.to_period('W').apply(lambda r: r.start_time)\n",
    "    resolution_by_week = dataframe.groupby('week')['resolution_days'].mean()\n",
    "\n",
    "    plt.figure(figsize=(12, 6))\n",
    "    plt.plot(resolution_by_week.index, resolution_by_week.values, marker='D', linewidth=2, color='purple')\n",
    "    plt.title('Average Resolution Time per Week (days)')\n",
    "    plt.xlabel('Week')\n",
    "    plt.ylabel('Resolution Time (days)')\n",
    "    plt.grid(True, linestyle='--', alpha=0.6)\n",
    "    plt.xticks(rotation=45)\n",
    "    plt.tight_layout()\n",
    "    plt.show()"
   ]
  },
  {
   "cell_type": "code",
   "execution_count": 44,
   "metadata": {},
   "outputs": [],
   "source": [
    "def plot_change_density(dataframe):\n",
    "    activity_counts = dataframe['activity_log_parsed'].apply(len)\n",
    "    history_parsed = parse_json_column(dataframe['history'])\n",
    "    history_counts = history_parsed.apply(len)\n",
    "    total_changes = activity_counts + history_counts\n",
    "\n",
    "    plt.figure(figsize=(12, 6))\n",
    "    total_changes.plot(kind='hist', bins=20, color='steelblue', edgecolor='black')\n",
    "    plt.title('Change Density per Issue (Activity + History)')\n",
    "    plt.xlabel('Number of Changes')\n",
    "    plt.ylabel('Number of Issues')\n",
    "    plt.grid(axis='y', linestyle='--', alpha=0.6)\n",
    "    plt.tight_layout()\n",
    "    plt.show()"
   ]
  },
  {
   "cell_type": "code",
   "execution_count": 46,
   "metadata": {},
   "outputs": [],
   "source": [
    "def plot_comment_resolution_correlation(dataframe):\n",
    "    dataframe['comment_count'] = dataframe['comments_parsed'].apply(len)\n",
    "    dataframe['resolution_days'] = (dataframe['updated_dt'] - dataframe['created_dt']).dt.total_seconds() / (60 * 60 * 24)\n",
    "\n",
    "    plt.figure(figsize=(8, 6))\n",
    "    plt.scatter(dataframe['comment_count'], dataframe['resolution_days'], alpha=0.6, color='teal')\n",
    "    plt.title('Comments vs. Resolution Time')\n",
    "    plt.xlabel('Number of Comments')\n",
    "    plt.ylabel('Resolution Time (days)')\n",
    "    plt.grid(True, linestyle='--', alpha=0.6)\n",
    "    plt.tight_layout()\n",
    "    plt.show()"
   ]
  },
  {
   "cell_type": "code",
   "execution_count": 47,
   "metadata": {},
   "outputs": [],
   "source": [
    "def count_reopenings(log):\n",
    "    visited = []\n",
    "    count = 0\n",
    "    for entry in log:\n",
    "        to_status = entry.get('to', '')\n",
    "        if to_status in visited:\n",
    "            count += 1\n",
    "        visited.append(to_status)\n",
    "    return count\n",
    "\n",
    "def plot_reopenings(dataframe):\n",
    "    dataframe['reopens'] = dataframe['activity_log_parsed'].apply(count_reopenings)\n",
    "    plt.figure(figsize=(10, 5))\n",
    "    dataframe['reopens'].value_counts().sort_index().plot(kind='bar', color='tomato')\n",
    "    plt.title('Task Reopenings (Returning to Previous Status)')\n",
    "    plt.xlabel('Number of Reopens')\n",
    "    plt.ylabel('Number of Issues')\n",
    "    plt.grid(axis='y', linestyle='--', alpha=0.6)\n",
    "    plt.tight_layout()\n",
    "    plt.show()"
   ]
  },
  {
   "cell_type": "code",
   "execution_count": 48,
   "metadata": {},
   "outputs": [],
   "source": [
    "def plot_update_gaps(dataframe):\n",
    "    dataframe['update_gap'] = (dataframe['updated_dt'] - dataframe['created_dt']).dt.total_seconds() / (60 * 60 * 24)\n",
    "    plt.figure(figsize=(10, 5))\n",
    "    dataframe['update_gap'].plot(kind='hist', bins=20, color='darkorange', edgecolor='black')\n",
    "    plt.title('Update Gaps: Created vs. Last Update')\n",
    "    plt.xlabel('Gap Duration (days)')\n",
    "    plt.ylabel('Number of Issues')\n",
    "    plt.grid(axis='y', linestyle='--', alpha=0.6)\n",
    "    plt.tight_layout()\n",
    "    plt.show()"
   ]
  },
  {
   "cell_type": "code",
   "execution_count": 49,
   "metadata": {},
   "outputs": [],
   "source": [
    "def plot_created_vs_concluded(dataframe):\n",
    "    \n",
    "    dataframe['week'] = dataframe['created_dt'].dt.to_period('W').apply(lambda r: r.start_time)\n",
    "    created_counts = dataframe.groupby('week').size()\n",
    "\n",
    "    concluded = dataframe[dataframe['status'] == 'Concluído']\n",
    "    concluded['week'] = concluded['updated_dt'].dt.to_period('W').apply(lambda r: r.start_time)\n",
    "    concluded_counts = concluded.groupby('week').size()\n",
    "\n",
    "    plt.figure(figsize=(15, 8))\n",
    "    \n",
    "    plt.plot(created_counts.index, created_counts.values, label='Created', \n",
    "             linewidth=3, marker='o', linestyle='-', markersize=8)\n",
    "    \n",
    "    plt.plot(concluded_counts.index, concluded_counts.values, label='Concluded', \n",
    "             linewidth=3, marker='s', linestyle='--', markersize=8)\n",
    "    \n",
    "    plt.xlabel('Month', fontsize=16, labelpad=10)\n",
    "    plt.ylabel('Number of Tasks', fontsize=16, labelpad=10)\n",
    "    \n",
    "    plt.tick_params(axis='both', which='major', labelsize=14)\n",
    "    \n",
    "    plt.legend(fontsize=14)\n",
    "    \n",
    "    plt.grid(True, linestyle='--', alpha=0.6)\n",
    "    \n",
    "    plt.gca().xaxis.set_major_formatter(mdates.DateFormatter('%b/%Y'))\n",
    "    plt.xticks(rotation=45)\n",
    "    \n",
    "    plt.margins(x=0.01, y=0.1)\n",
    "    \n",
    "    plt.tight_layout()\n",
    "    plt.show()"
   ]
  },
  {
   "cell_type": "code",
   "execution_count": 50,
   "metadata": {},
   "outputs": [],
   "source": [
    "def plot_comments_vs_reopens(dataframe):\n",
    "    dataframe['comments_parsed'] = parse_json_column(dataframe['comments'])\n",
    "    dataframe['activity_log_parsed'] = parse_json_column(dataframe['activity_log'])\n",
    "\n",
    "    dataframe['comment_count'] = dataframe['comments_parsed'].apply(len)\n",
    "    dataframe['reopen_count'] = dataframe['activity_log_parsed'].apply(count_reopenings)\n",
    "\n",
    "    plt.figure(figsize=(8, 6))\n",
    "    plt.scatter(dataframe['comment_count'], dataframe['reopen_count'], alpha=0.7, color='mediumseagreen')\n",
    "    plt.title('Comments vs. Reopen Count per Task')\n",
    "    plt.xlabel('Number of Comments')\n",
    "    plt.ylabel('Number of Reopens')\n",
    "    plt.grid(True, linestyle='--', alpha=0.6)\n",
    "    plt.tight_layout()\n",
    "    plt.show()"
   ]
  }
 ],
 "metadata": {
  "kernelspec": {
   "display_name": "Python 3",
   "language": "python",
   "name": "python3"
  },
  "language_info": {
   "codemirror_mode": {
    "name": "ipython",
    "version": 3
   },
   "file_extension": ".py",
   "mimetype": "text/x-python",
   "name": "python",
   "nbconvert_exporter": "python",
   "pygments_lexer": "ipython3",
   "version": "3.12.1"
  }
 },
 "nbformat": 4,
 "nbformat_minor": 2
}
