{
 "cells": [
  {
   "cell_type": "code",
   "execution_count": null,
   "id": "f064b6e9",
   "metadata": {
    "scrolled": true
   },
   "outputs": [
    {
     "name": "stdout",
     "output_type": "stream",
     "text": [
      "Top 10 Tipos de Requisitos Não Funcionais e suas 3 Descrições Mais Comuns:\n",
      "- performance:\n",
      "  1. The system should respond to user inputs within 2 seconds.\n",
      "  2. The system should respond to user inputs within 3 seconds.\n",
      "  3. The system should handle at least 1000 requests per second.\n",
      "- maintainability:\n",
      "  1. The system should have high availability with minimal downtime.\n",
      "  2. Integrar os arquivos controller_jira.py e controller_gh.py em um único arquivo controller.py.\n",
      "  3. Integrar os arquivos api_jira.py e api_gh.py em um único arquivo api.py.\n",
      "- correctness:\n",
      "  1. The task must identify and categorize NFRs without assumptions.\n",
      "  2. Refine data collection based on specific repository characteristics\n",
      "  3. Avoid saving duplicate data to prevent conflicts with existing records.\n",
      "- usability:\n",
      "  1. The system should have an intuitive user interface.\n",
      "  2. The system should have an intuitive user interface\n",
      "  3. The system should have an intuitive and user-friendly interface.\n",
      "- security:\n",
      "  1. The system must comply with all relevant security standards and regulations.\n",
      "  2. The system should have role-based access control to ensure only authorized users can access sensitive data.\n",
      "  3. The system should protect user data and prevent unauthorized access.\n",
      "- documentation:\n",
      "  1. Including the creation and organization of repositories, adding files README and other essential documentation\n",
      "  2. The script filters .rst files and generates a JSON file with their paths.\n",
      "  3. The API should provide comprehensive documentation to facilitate its use and understanding\n",
      "- none:\n",
      "  1. Add AISE Lab team as collaborators to aisepucrio organization on Github\n",
      "  2. Alexandre will focus on web scraping\n",
      "  3. The NFR does not clearly fit into any of the specified categories\n",
      "- availability:\n",
      "  1. The system should maintain high availability with no more than 5 minutes of downtime per month.\n",
      "  2. The system should be highly available with minimal downtime.\n",
      "  3. The system should maintain high availability with no downtime.\n",
      "\n",
      "Tabela de Top 10 Tipos de Requisitos Não Funcionais e suas Frequências:\n",
      "  Tipo de Requisito  Frequência\n",
      "0       performance         130\n",
      "1   maintainability          88\n",
      "2       correctness          84\n",
      "3         usability          75\n",
      "4          security          47\n",
      "5     documentation          35\n",
      "6              none          17\n",
      "7      availability           5\n"
     ]
    },
    {
     "data": {
      "image/png": "[encoded data removed]",
      "text/plain": [
       "<Figure size 720x360 with 1 Axes>"
      ]
     },
     "metadata": {
      "needs_background": "light"
     },
     "output_type": "display_data"
    }
   ],
   "source": [
    "import json\n",
    "import pandas as pd\n",
    "import matplotlib.pyplot as plt\n",
    "\n",
    "# Load the data from JSON\n",
    "file_path = \"NFR/results/jira.json\"\n",
    "with open(file_path, \"r\", encoding=\"utf-8\") as file:\n",
    "    data = [json.loads(line.strip()) for line in file if line.strip()]\n",
    "\n",
    "# Normalize the data\n",
    "requirements = [entry.get(\"response\", \"{}\") for entry in data]\n",
    "parsed_requirements = [json.loads(req) for req in requirements if req]\n",
    "\n",
    "df = pd.DataFrame(parsed_requirements)\n",
    "df = df.dropna(subset=[\"type\", \"requirement\"])  # Remove rows with null values\n",
    "\n",
    "# Count the types of requirements\n",
    "requirement_counts = df[\"type\"].value_counts()\n",
    "\n",
    "# Select the top 10 most frequent requirement types\n",
    "top_10 = requirement_counts.head(10)\n",
    "\n",
    "# Get the top 3 most common descriptions for each of the top 10 requirement types\n",
    "top_10_descriptions = {}\n",
    "for req_type in top_10.index:\n",
    "    top_3_desc = df[df[\"type\"] == req_type][\"requirement\"].value_counts().head(3).index.tolist()\n",
    "    top_10_descriptions[req_type] = top_3_desc\n",
    "\n",
    "# Display summary of top 10 requirement types and their 3 most common descriptions\n",
    "print(\"Top 10 Non-Functional Requirement Types and their 3 Most Common Descriptions:\")\n",
    "for req_type, descriptions in top_10_descriptions.items():\n",
    "    print(f\"- {req_type}:\")\n",
    "    for i, desc in enumerate(descriptions, 1):\n",
    "        print(f\"  {i}. {desc}\")\n",
    "\n",
    "# Display table with requirement types and recurrence counts\n",
    "print(\"\\nTable of Top 10 Non-Functional Requirement Types and their Frequencies:\")\n",
    "top_10_table = pd.DataFrame({\n",
    "    \"Requirement Type\": top_10.index,\n",
    "    \"Frequency\": top_10.values\n",
    "})\n",
    "print(top_10_table)\n",
    "\n",
    "# Create a graph\n",
    "plt.figure(figsize=(10, 5))\n",
    "top_10.plot(kind=\"bar\", color=\"skyblue\")\n",
    "plt.xlabel(\"Requirement Type\")\n",
    "plt.ylabel(\"Frequency\")\n",
    "plt.title(\"Top 10 Non-Functional Requirement Types - JIRA\")\n",
    "plt.xticks(rotation=45)\n",
    "plt.show()\n"
   ]
  },
  {
   "cell_type": "code",
   "execution_count": null,
   "id": "d7f5b671",
   "metadata": {},
   "outputs": [
    {
     "name": "stdout",
     "output_type": "stream",
     "text": [
      "Top 10 Tipos de Requisitos Não Funcionais e suas 3 Descrições Mais Comuns:\n",
      "- correctness:\n",
      "  1. Implementação do código em Rust como biblioteca python\n",
      "  2. Commits detalhados salvos no banco de dados e no JSON com sucesso.\n",
      "  3. Extract only explicitly stated NFRs\n",
      "- maintainability:\n",
      "  1. Exclude Byte-compiled / optimized / DLL files to improve code readability and maintainability\n",
      "  2. Adding column about repository information improves traceability and ease of maintenance.\n",
      "  3. Removal of redundant routes and fields improves maintainability\n",
      "- documentation:\n",
      "  1. Improving README\n",
      "  2. Adding initial GitHub information\n",
      "  3. Delete docs/project_documentation.md\n",
      "- performance:\n",
      "  1. Otimiza coleta de dados reduzindo chamadas à API no modo básico\n",
      "  2. The system should handle at least 100 simultaneous users\n",
      "  3. Extract properties faster from source\n",
      "- security:\n",
      "  1. Keep the secret key used in production secret!\n",
      "  2. The system should have encrypted data storage\n",
      "  3. The password used for database connection should be encrypted\n",
      "- none:\n",
      "  1. No explicit non-functional requirements found.\n",
      "  2. No explicit non-functional requirements found\n",
      "  3. No explicit non-functional requirements were mentioned.\n",
      "- usability:\n",
      "  1. The system should have an intuitive and user-friendly interface\n",
      "  2. Creation of features to improve user experience\n",
      "  3. Endpoint for mining commits from a repository.\n",
      "\n",
      "Tabela de Top 10 Tipos de Requisitos Não Funcionais e suas Frequências:\n",
      "  Tipo de Requisito  Frequência\n",
      "0       correctness         334\n",
      "1   maintainability          84\n",
      "2     documentation          65\n",
      "3       performance          54\n",
      "4          security          47\n",
      "5              none          38\n",
      "6         usability          26\n"
     ]
    },
    {
     "data": {
      "image/png": "[encoded data removed]",
      "text/plain": [
       "<Figure size 720x360 with 1 Axes>"
      ]
     },
     "metadata": {
      "needs_background": "light"
     },
     "output_type": "display_data"
    }
   ],
   "source": [
    "# Load the data from JSON\n",
    "file_path = \"NFR/results/github_results.json\"\n",
    "with open(file_path, \"r\", encoding=\"utf-8\") as file:\n",
    "    data = [json.loads(line.strip()) for line in file if line.strip()]\n",
    "\n",
    "# Normalize the data\n",
    "requirements = [entry.get(\"response\", \"{}\") for entry in data]\n",
    "parsed_requirements = [json.loads(req) for req in requirements if req]\n",
    "\n",
    "df = pd.DataFrame(parsed_requirements)\n",
    "df = df.dropna(subset=[\"type\", \"requirement\"])  # Remove rows with null values\n",
    "\n",
    "# Count the types of requirements\n",
    "requirement_counts = df[\"type\"].value_counts()\n",
    "\n",
    "# Select the top 10 most frequent requirement types\n",
    "top_10 = requirement_counts.head(10)\n",
    "\n",
    "# Get the top 3 most common descriptions for each of the top 10 requirement types\n",
    "top_10_descriptions = {}\n",
    "for req_type in top_10.index:\n",
    "    top_3_desc = df[df[\"type\"] == req_type][\"requirement\"].value_counts().head(3).index.tolist()\n",
    "    top_10_descriptions[req_type] = top_3_desc\n",
    "\n",
    "# Display summary of top 10 requirement types and their 3 most common descriptions\n",
    "print(\"Top 10 Non-Functional Requirement Types and their 3 Most Common Descriptions:\")\n",
    "for req_type, descriptions in top_10_descriptions.items():\n",
    "    print(f\"- {req_type}:\")\n",
    "    for i, desc in enumerate(descriptions, 1):\n",
    "        print(f\"  {i}. {desc}\")\n",
    "\n",
    "# Display table with requirement types and recurrence counts\n",
    "print(\"\\nTable of Top 10 Non-Functional Requirement Types and their Frequencies:\")\n",
    "top_10_table = pd.DataFrame({\n",
    "    \"Requirement Type\": top_10.index,\n",
    "    \"Frequency\": top_10.values\n",
    "})\n",
    "print(top_10_table)\n",
    "\n",
    "# Create a graph\n",
    "plt.figure(figsize=(10, 5))\n",
    "top_10.plot(kind=\"bar\", color=\"skyblue\")\n",
    "plt.xlabel(\"Requirement Type\")\n",
    "plt.ylabel(\"Frequency\")\n",
    "plt.title(\"Top 10 Non-Functional Requirement Types - GITHUB\")\n",
    "plt.xticks(rotation=45)\n",
    "plt.show()\n"
   ]
  },
  {
   "cell_type": "code",
   "execution_count": 6,
   "id": "3b0bf25a",
   "metadata": {},
   "outputs": [],
   "source": []
  },
  {
   "cell_type": "code",
   "execution_count": 7,
   "id": "9d1ddc4e",
   "metadata": {},
   "outputs": [],
   "source": []
  },
  {
   "cell_type": "code",
   "execution_count": 8,
   "id": "296511f8",
   "metadata": {},
   "outputs": [],
   "source": []
  },
  {
   "cell_type": "code",
   "execution_count": 9,
   "id": "a37810d4",
   "metadata": {},
   "outputs": [],
   "source": []
  },
  {
   "cell_type": "code",
   "execution_count": 10,
   "id": "4450d624",
   "metadata": {},
   "outputs": [],
   "source": []
  },
  {
   "cell_type": "code",
   "execution_count": null,
   "id": "812ac987",
   "metadata": {},
   "outputs": [],
   "source": []
  }
 ],
 "metadata": {
  "kernelspec": {
   "display_name": "Python 3",
   "language": "python",
   "name": "python3"
  },
  "language_info": {
   "codemirror_mode": {
    "name": "ipython",
    "version": 3
   },
   "file_extension": ".py",
   "mimetype": "text/x-python",
   "name": "python",
   "nbconvert_exporter": "python",
   "pygments_lexer": "ipython3",
   "version": "3.8.8"
  }
 },
 "nbformat": 4,
 "nbformat_minor": 5
}
