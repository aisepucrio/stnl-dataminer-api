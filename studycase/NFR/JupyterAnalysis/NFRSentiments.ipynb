{
 "cells": [
  {
   "cell_type": "code",
   "execution_count": 4,
   "id": "820cb05c",
   "metadata": {
    "scrolled": true
   },
   "outputs": [
    {
     "data": {
      "text/plain": [
       "<Figure size 864x504 with 0 Axes>"
      ]
     },
     "metadata": {},
     "output_type": "display_data"
    },
    {
     "data": {
      "image/png": "[encoded data removed]",
      "text/plain": [
       "<Figure size 432x288 with 1 Axes>"
      ]
     },
     "metadata": {
      "needs_background": "light"
     },
     "output_type": "display_data"
    },
    {
     "name": "stdout",
     "output_type": "stream",
     "text": [
      "Total Count per Requirement Type (Filtered):\n"
     ]
    },
    {
     "data": {
      "text/html": [
       "<div>\n",
       "<style scoped>\n",
       "    .dataframe tbody tr th:only-of-type {\n",
       "        vertical-align: middle;\n",
       "    }\n",
       "\n",
       "    .dataframe tbody tr th {\n",
       "        vertical-align: top;\n",
       "    }\n",
       "\n",
       "    .dataframe thead th {\n",
       "        text-align: right;\n",
       "    }\n",
       "</style>\n",
       "<table border=\"1\" class=\"dataframe\">\n",
       "  <thead>\n",
       "    <tr style=\"text-align: right;\">\n",
       "      <th></th>\n",
       "      <th>Requirement Type</th>\n",
       "      <th>Count</th>\n",
       "    </tr>\n",
       "  </thead>\n",
       "  <tbody>\n",
       "    <tr>\n",
       "      <th>0</th>\n",
       "      <td>performance</td>\n",
       "      <td>54</td>\n",
       "    </tr>\n",
       "    <tr>\n",
       "      <th>1</th>\n",
       "      <td>maintainability</td>\n",
       "      <td>84</td>\n",
       "    </tr>\n",
       "    <tr>\n",
       "      <th>2</th>\n",
       "      <td>correctness</td>\n",
       "      <td>334</td>\n",
       "    </tr>\n",
       "    <tr>\n",
       "      <th>3</th>\n",
       "      <td>usability</td>\n",
       "      <td>26</td>\n",
       "    </tr>\n",
       "    <tr>\n",
       "      <th>4</th>\n",
       "      <td>security</td>\n",
       "      <td>47</td>\n",
       "    </tr>\n",
       "    <tr>\n",
       "      <th>5</th>\n",
       "      <td>documentation</td>\n",
       "      <td>65</td>\n",
       "    </tr>\n",
       "  </tbody>\n",
       "</table>\n",
       "</div>"
      ],
      "text/plain": [
       "  Requirement Type  Count\n",
       "0      performance     54\n",
       "1  maintainability     84\n",
       "2      correctness    334\n",
       "3        usability     26\n",
       "4         security     47\n",
       "5    documentation     65"
      ]
     },
     "metadata": {},
     "output_type": "display_data"
    },
    {
     "data": {
      "image/png": "[encoded data removed]",
      "text/plain": [
       "<Figure size 576x360 with 1 Axes>"
      ]
     },
     "metadata": {
      "needs_background": "light"
     },
     "output_type": "display_data"
    },
    {
     "name": "stdout",
     "output_type": "stream",
     "text": [
      "Total Sentiment Counts:\n"
     ]
    },
    {
     "data": {
      "text/html": [
       "<div>\n",
       "<style scoped>\n",
       "    .dataframe tbody tr th:only-of-type {\n",
       "        vertical-align: middle;\n",
       "    }\n",
       "\n",
       "    .dataframe tbody tr th {\n",
       "        vertical-align: top;\n",
       "    }\n",
       "\n",
       "    .dataframe thead th {\n",
       "        text-align: right;\n",
       "    }\n",
       "</style>\n",
       "<table border=\"1\" class=\"dataframe\">\n",
       "  <thead>\n",
       "    <tr style=\"text-align: right;\">\n",
       "      <th></th>\n",
       "      <th>Sentiment</th>\n",
       "      <th>Count</th>\n",
       "    </tr>\n",
       "  </thead>\n",
       "  <tbody>\n",
       "    <tr>\n",
       "      <th>0</th>\n",
       "      <td>neutral</td>\n",
       "      <td>683</td>\n",
       "    </tr>\n",
       "  </tbody>\n",
       "</table>\n",
       "</div>"
      ],
      "text/plain": [
       "  Sentiment  Count\n",
       "0   neutral    683"
      ]
     },
     "metadata": {},
     "output_type": "display_data"
    }
   ],
   "source": [
    "import json\n",
    "import pandas as pd\n",
    "import matplotlib.pyplot as plt\n",
    "import seaborn as sns\n",
    "\n",
    "# ------------------------\n",
    "# 1. Read and parse the JSONL file\n",
    "# ------------------------\n",
    "parsed_data = []\n",
    "with open(\"nfrs_sentiment.json\", \"r\", encoding=\"utf-8\") as f:\n",
    "    for line in f:\n",
    "        full_entry = json.loads(line)\n",
    "        inner_response = json.loads(full_entry[\"response\"])\n",
    "        inner_response[\"sentiment\"] = full_entry[\"sentiment\"]\n",
    "        inner_response[\"confidence\"] = full_entry[\"confidence\"]\n",
    "        parsed_data.append(inner_response)\n",
    "\n",
    "# ------------------------\n",
    "# 2. Create the DataFrame\n",
    "# ------------------------\n",
    "df = pd.DataFrame(parsed_data)\n",
    "\n",
    "# ------------------------\n",
    "# 3. Filter by target requirement types\n",
    "# ------------------------\n",
    "target_types = [\n",
    "    \"performance\",\n",
    "    \"maintainability\",\n",
    "    \"correctness\",\n",
    "    \"usability\",\n",
    "    \"security\",\n",
    "    \"documentation\"\n",
    "]\n",
    "\n",
    "filtered_df = df[df[\"type\"].isin(target_types)]\n",
    "\n",
    "# ------------------------\n",
    "# 4. Count sentiment occurrences per type\n",
    "# ------------------------\n",
    "sentiment_counts = filtered_df.groupby([\"type\", \"sentiment\"]).size().unstack(fill_value=0)\n",
    "sentiment_counts = sentiment_counts.reindex(target_types, fill_value=0)  # keep original order\n",
    "\n",
    "# ------------------------\n",
    "# 5. Stacked bar chart: Sentiment distribution per requirement type\n",
    "# ------------------------\n",
    "plt.figure(figsize=(12, 7))\n",
    "sentiment_counts.plot(kind=\"bar\", stacked=True, colormap=plt.get_cmap(\"Set2\"))\n",
    "plt.title(\"Sentiment Distribution by Requirement Type (Filtered)\")\n",
    "plt.xlabel(\"Requirement Type\")\n",
    "plt.ylabel(\"Count\")\n",
    "plt.xticks(rotation=45)\n",
    "plt.tight_layout()\n",
    "plt.show()\n",
    "\n",
    "# ------------------------\n",
    "# 6. Table: total count per type\n",
    "# ------------------------\n",
    "type_counts = df[\"type\"].value_counts().loc[target_types].reset_index()\n",
    "type_counts.columns = [\"Requirement Type\", \"Count\"]\n",
    "\n",
    "print(\"Total Count per Requirement Type (Filtered):\")\n",
    "display(type_counts)\n",
    "\n",
    "# ------------------------\n",
    "# 7. New bar chart: Total sentiment distribution\n",
    "# ------------------------\n",
    "total_sentiments = df[\"sentiment\"].value_counts().reset_index()\n",
    "total_sentiments.columns = [\"Sentiment\", \"Count\"]\n",
    "\n",
    "plt.figure(figsize=(8, 5))\n",
    "sns.barplot(data=total_sentiments, x=\"Sentiment\", y=\"Count\", palette=\"Set2\")\n",
    "plt.title(\"Overall Sentiment Distribution\")\n",
    "plt.xlabel(\"Sentiment\")\n",
    "plt.ylabel(\"Count\")\n",
    "plt.tight_layout()\n",
    "plt.show()\n",
    "\n",
    "print(\"Total Sentiment Counts:\")\n",
    "display(total_sentiments)\n"
   ]
  },
  {
   "cell_type": "code",
   "execution_count": 6,
   "id": "b5227217",
   "metadata": {},
   "outputs": [
    {
     "name": "stdout",
     "output_type": "stream",
     "text": [
      "Contagem por Tipo de Requisito:\n"
     ]
    },
    {
     "data": {
      "text/html": [
       "<div>\n",
       "<style scoped>\n",
       "    .dataframe tbody tr th:only-of-type {\n",
       "        vertical-align: middle;\n",
       "    }\n",
       "\n",
       "    .dataframe tbody tr th {\n",
       "        vertical-align: top;\n",
       "    }\n",
       "\n",
       "    .dataframe thead th {\n",
       "        text-align: right;\n",
       "    }\n",
       "</style>\n",
       "<table border=\"1\" class=\"dataframe\">\n",
       "  <thead>\n",
       "    <tr style=\"text-align: right;\">\n",
       "      <th></th>\n",
       "      <th>Tipo de Requisito</th>\n",
       "      <th>Quantidade</th>\n",
       "    </tr>\n",
       "  </thead>\n",
       "  <tbody>\n",
       "    <tr>\n",
       "      <th>0</th>\n",
       "      <td>maintainability</td>\n",
       "      <td>120</td>\n",
       "    </tr>\n",
       "    <tr>\n",
       "      <th>1</th>\n",
       "      <td>performance</td>\n",
       "      <td>88</td>\n",
       "    </tr>\n",
       "    <tr>\n",
       "      <th>2</th>\n",
       "      <td>security</td>\n",
       "      <td>73</td>\n",
       "    </tr>\n",
       "    <tr>\n",
       "      <th>3</th>\n",
       "      <td>functional</td>\n",
       "      <td>16</td>\n",
       "    </tr>\n",
       "    <tr>\n",
       "      <th>4</th>\n",
       "      <td>operational</td>\n",
       "      <td>16</td>\n",
       "    </tr>\n",
       "    <tr>\n",
       "      <th>...</th>\n",
       "      <td>...</td>\n",
       "      <td>...</td>\n",
       "    </tr>\n",
       "    <tr>\n",
       "      <th>113</th>\n",
       "      <td>formatting</td>\n",
       "      <td>1</td>\n",
       "    </tr>\n",
       "    <tr>\n",
       "      <th>114</th>\n",
       "      <td>testability</td>\n",
       "      <td>1</td>\n",
       "    </tr>\n",
       "    <tr>\n",
       "      <th>115</th>\n",
       "      <td>data mapping</td>\n",
       "      <td>1</td>\n",
       "    </tr>\n",
       "    <tr>\n",
       "      <th>116</th>\n",
       "      <td>code_change</td>\n",
       "      <td>1</td>\n",
       "    </tr>\n",
       "    <tr>\n",
       "      <th>117</th>\n",
       "      <td></td>\n",
       "      <td>1</td>\n",
       "    </tr>\n",
       "  </tbody>\n",
       "</table>\n",
       "<p>118 rows × 2 columns</p>\n",
       "</div>"
      ],
      "text/plain": [
       "    Tipo de Requisito  Quantidade\n",
       "0     maintainability         120\n",
       "1         performance          88\n",
       "2            security          73\n",
       "3          functional          16\n",
       "4         operational          16\n",
       "..                ...         ...\n",
       "113        formatting           1\n",
       "114       testability           1\n",
       "115      data mapping           1\n",
       "116       code_change           1\n",
       "117                             1\n",
       "\n",
       "[118 rows x 2 columns]"
      ]
     },
     "metadata": {},
     "output_type": "display_data"
    }
   ],
   "source": [
    "sentimentNFR"
   ]
  },
  {
   "cell_type": "code",
   "execution_count": 3,
   "id": "cf1bc66e",
   "metadata": {},
   "outputs": [
    {
     "data": {
      "image/png": "[encoded data removed]",
      "text/plain": [
       "<Figure size 576x360 with 1 Axes>"
      ]
     },
     "metadata": {
      "needs_background": "light"
     },
     "output_type": "display_data"
    },
    {
     "name": "stdout",
     "output_type": "stream",
     "text": [
      "Contagem total de sentimentos:\n"
     ]
    },
    {
     "data": {
      "text/html": [
       "<div>\n",
       "<style scoped>\n",
       "    .dataframe tbody tr th:only-of-type {\n",
       "        vertical-align: middle;\n",
       "    }\n",
       "\n",
       "    .dataframe tbody tr th {\n",
       "        vertical-align: top;\n",
       "    }\n",
       "\n",
       "    .dataframe thead th {\n",
       "        text-align: right;\n",
       "    }\n",
       "</style>\n",
       "<table border=\"1\" class=\"dataframe\">\n",
       "  <thead>\n",
       "    <tr style=\"text-align: right;\">\n",
       "      <th></th>\n",
       "      <th>Sentimento</th>\n",
       "      <th>Quantidade</th>\n",
       "    </tr>\n",
       "  </thead>\n",
       "  <tbody>\n",
       "    <tr>\n",
       "      <th>0</th>\n",
       "      <td>neutral</td>\n",
       "      <td>683</td>\n",
       "    </tr>\n",
       "  </tbody>\n",
       "</table>\n",
       "</div>"
      ],
      "text/plain": [
       "  Sentimento  Quantidade\n",
       "0    neutral         683"
      ]
     },
     "metadata": {},
     "output_type": "display_data"
    }
   ],
   "source": [
    "# Contagem total de sentimentos (sem considerar o tipo)\n",
    "total_sentiments = df[\"sentiment\"].value_counts().reset_index()\n",
    "total_sentiments.columns = [\"Sentimento\", \"Quantidade\"]\n",
    "\n",
    "# Gráfico de barras\n",
    "plt.figure(figsize=(8, 5))\n",
    "sns.barplot(data=total_sentiments, x=\"Sentimento\", y=\"Quantidade\", palette=\"Set2\")\n",
    "plt.title(\"Distribuição Total de Sentimentos\")\n",
    "plt.xlabel(\"Sentimento\")\n",
    "plt.ylabel(\"Quantidade\")\n",
    "plt.tight_layout()\n",
    "plt.show()\n",
    "\n",
    "# Mostra a tabela também\n",
    "print(\"Contagem total de sentimentos:\")\n",
    "display(total_sentiments)\n"
   ]
  },
  {
   "cell_type": "code",
   "execution_count": null,
   "id": "cbf5d78f",
   "metadata": {},
   "outputs": [],
   "source": []
  }
 ],
 "metadata": {
  "kernelspec": {
   "display_name": "Python 3",
   "language": "python",
   "name": "python3"
  },
  "language_info": {
   "codemirror_mode": {
    "name": "ipython",
    "version": 3
   },
   "file_extension": ".py",
   "mimetype": "text/x-python",
   "name": "python",
   "nbconvert_exporter": "python",
   "pygments_lexer": "ipython3",
   "version": "3.8.8"
  }
 },
 "nbformat": 4,
 "nbformat_minor": 5
}
